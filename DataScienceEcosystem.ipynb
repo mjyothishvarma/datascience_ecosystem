{
 "cells": [
  {
   "cell_type": "markdown",
   "id": "a1f04376-97db-42b6-89dc-f31028178b33",
   "metadata": {},
   "source": [
    "# Data Science Tools and Ecosystem"
   ]
  },
  {
   "cell_type": "markdown",
   "id": "5f1c35a4-1e9e-442d-99d3-dc274a4aed3f",
   "metadata": {},
   "source": [
    "In this notebook, Data Science Tools and Ecosystem are summarized."
   ]
  },
  {
   "cell_type": "markdown",
   "id": "1134ce1b-4ed7-4eb2-adde-c7dbfe789f70",
   "metadata": {},
   "source": [
    "**Objectives:**\n",
    "\n",
    "- Listing popular Data Science languages\n",
    "- Listing commonly used Data Science libraries\n",
    "- Listing development environment open source tools in Data Science\n",
    "- Evaluating some arithmetic expressions in Python"
   ]
  },
  {
   "cell_type": "markdown",
   "id": "ded529c7-3a69-4890-b0b8-78ffebc6f11f",
   "metadata": {},
   "source": [
    "Some of the popular languages that Data Scientists use are:\n",
    "1.  Python\n",
    "2.  R\n",
    "3.  SQL\n",
    "4.  Java\n",
    "5.  JavaScript"
   ]
  },
  {
   "cell_type": "markdown",
   "id": "1aab3e7a-ea9d-4aab-87d0-21678749d9aa",
   "metadata": {},
   "source": [
    "Some of the commonly used libraries by Data Scientists include:\n",
    "\n",
    "1. Pandas\n",
    "2. Seaborn\n",
    "3. scikit-learn\n",
    "4. Tenserflow\n"
   ]
  },
  {
   "cell_type": "markdown",
   "id": "818b98d6-f495-48dc-af52-21026c802f7d",
   "metadata": {},
   "source": [
    "| Data Science Tools |\n",
    "| ------------------ |\n",
    "| Jupyter |\n",
    "| Apache Zeppelin |\n",
    "| R studio |"
   ]
  },
  {
   "cell_type": "markdown",
   "id": "4eed41d5-37a3-4723-b09a-68c5445cf5a2",
   "metadata": {},
   "source": [
    "### Below are a few examples of evaluating arithmetic expressions in python"
   ]
  },
  {
   "cell_type": "code",
   "execution_count": 5,
   "id": "67255796-2204-4ee0-a37c-7a85c364771c",
   "metadata": {
    "tags": []
   },
   "outputs": [
    {
     "data": {
      "text/plain": [
       "17"
      ]
     },
     "execution_count": 5,
     "metadata": {},
     "output_type": "execute_result"
    }
   ],
   "source": [
    "# This is a simple arithmetic expression to multiply and add integers\n",
    "\n",
    "(3*4) + 5"
   ]
  },
  {
   "cell_type": "code",
   "execution_count": 4,
   "id": "13208140-1995-4fe9-9b02-5e59b57ea328",
   "metadata": {
    "tags": []
   },
   "outputs": [
    {
     "name": "stdout",
     "output_type": "stream",
     "text": [
      "200 minutes is around to 3.3 hours\n"
     ]
    }
   ],
   "source": [
    "# This will convert 200 minutes to hours by dividing by 60\n",
    "\n",
    "print(f\"200 minutes is around to {round(200/60,1)} hours\")"
   ]
  },
  {
   "cell_type": "markdown",
   "id": "1811a68b-83ee-4964-9bce-d47c4c84a206",
   "metadata": {},
   "source": [
    "## Author\n",
    "M Jyothish Varma"
   ]
  }
 ],
 "metadata": {
  "kernelspec": {
   "display_name": "Python",
   "language": "python",
   "name": "conda-env-python-py"
  },
  "language_info": {
   "codemirror_mode": {
    "name": "ipython",
    "version": 3
   },
   "file_extension": ".py",
   "mimetype": "text/x-python",
   "name": "python",
   "nbconvert_exporter": "python",
   "pygments_lexer": "ipython3",
   "version": "3.7.12"
  }
 },
 "nbformat": 4,
 "nbformat_minor": 5
}
